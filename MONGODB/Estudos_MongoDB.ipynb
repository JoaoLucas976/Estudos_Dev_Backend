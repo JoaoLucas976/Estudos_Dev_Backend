{
 "cells": [
  {
   "cell_type": "markdown",
   "metadata": {},
   "source": [
    "# Estudos MongoDB"
   ]
  },
  {
   "cell_type": "markdown",
   "metadata": {},
   "source": [
    "Primeiros passos no MongoDB\n",
    "\n",
    "Para fins de estudo irei guardar as 4 principais operações de qualquer DB:\n",
    "- Create\n",
    "- Read\n",
    "- Update\n",
    "- Delete"
   ]
  },
  {
   "cell_type": "markdown",
   "metadata": {},
   "source": [
    "---"
   ]
  },
  {
   "cell_type": "markdown",
   "metadata": {},
   "source": [
    "### **CREATE**\n",
    "\n",
    "```javascript\n",
    "// Conecta a um banco (cria temporariamente caso não exista)\n",
    "use meuBanco\n",
    "\n",
    "// Inserir documento (registro) único\n",
    "db.meuBanco.insertOne({\n",
    "    nome: \"João\",\n",
    "    idade: 23,\n",
    "    empregado: false,\n",
    "    hobbies: [\"programar\", \"jogar\", \"ler\"],\n",
    "    caracteristicas: {\n",
    "        altura: 1.72,\n",
    "        peso: 73.2,\n",
    "        cor: \"pardo\",\n",
    "        personalidade: \"Introvertido\"\n",
    "    },\n",
    "    data_cadastro: new Date()\n",
    "})\n",
    "\n",
    "// Inserir documento (registro) de múltiplas linhas (use [])\n",
    "db.meuBanco.insertMany([{\n",
    "    nome: \"Maria\",\n",
    "    idade: 22,\n",
    "    empregado: true\n",
    "}, {\n",
    "    nome: \"José\",\n",
    "    idade: 25,\n",
    "    empregado: false\n",
    "}, {\n",
    "    nome: \"Paulo\",\n",
    "    idade: 32,\n",
    "    empregado: true\n",
    "}])"
   ]
  },
  {
   "cell_type": "markdown",
   "metadata": {},
   "source": [
    "---"
   ]
  },
  {
   "cell_type": "markdown",
   "metadata": {},
   "source": [
    "### **READ**\n",
    "\n",
    "```javascript\n",
    "// Consultando todos os databases\n",
    "show dbs\n",
    "\n",
    "// Consultados todas as collections (tabelas)\n",
    "show collections\n",
    "\n",
    "// Consultar um documento\n",
    "db.minhaTabela.findOne()\n",
    "\n",
    "// Consultar todos os documentos\n",
    "db.minhaTabela.find()\n",
    "\n",
    "// Consultando documentos específicos\n",
    "db.minhaTabela.find({nome:\"João\"}) // Consultado os documentos com o nome João\n",
    "\n",
    "// Consultando o número de documentos\n",
    "db.minhaTabela.find().count()\n",
    "\n",
    "// Consultando o número de documentos específicos\n",
    "db.minhaTabela.find().count({nome:\"João\"})"
   ]
  },
  {
   "cell_type": "markdown",
   "metadata": {},
   "source": [
    "---"
   ]
  },
  {
   "cell_type": "markdown",
   "metadata": {},
   "source": [
    "### **UPDATE**\n",
    "\n",
    "```javascript\n",
    "// Alterando um registro na collection\n",
    "db.minhaTabela.updateOne({nome:\"João\"} , {$set: {empregado:true}}) // Alterando 1 documento com o nome joão para que empregado seja true\n",
    "\n",
    "// Alterando múltiplos registros na collection\n",
    "db.minhaTabela.updateMany({nome:\"Pedro\"} , {$set: {empregado:false}}) // Alterando todos os documentos com o nome Pedro para que empregado seja false\n",
    "\n",
    "// Alterando múltiplos registros na collection\n",
    "db.minhaTabela.updateMany({} , {$set: {salario: 5000}}) // Alterando todos os documentos para que salario seja 5000\n",
    "\n",
    "// Inserindo um novo documento\n",
    "db.minhaTabela.insertOne({nome:\"Paulo\", idade:21, empregado:true, salario:5000})\n",
    "\n",
    "// Inserindo multiplos novos documentos\n",
    "db.minhaTabela.insertMany([{nome:\"Sergio\"}, {nome:\"Carlos\"}, {nome:\"Lucas\"}])"
   ]
  },
  {
   "cell_type": "markdown",
   "metadata": {},
   "source": [
    "---"
   ]
  },
  {
   "cell_type": "markdown",
   "metadata": {},
   "source": [
    "### **DELETE**\n",
    "```javascript\n",
    "// Deletando um documento\n",
    "db.deleteOne({nome:\"Sergio\"})\n",
    "\n",
    "// Deleta vários documentos\n",
    "db.deleteMany({empregado: false}) // Deletando todos os documentos com empregado igual a false"
   ]
  },
  {
   "cell_type": "markdown",
   "metadata": {},
   "source": [
    "---"
   ]
  },
  {
   "cell_type": "markdown",
   "metadata": {},
   "source": [
    "### Operadores no MongoDB\n",
    "\n",
    "A seguir, serão apresentados os principais operadores utilizados no mongoDB para uso geral (update, find)\n",
    "- *$gt* (greater than)\n",
    "- *$gte* (greater than or equal)\n",
    "- *$lt* (less than)\n",
    "- *$lte* (less than or equal)\n",
    "\n",
    "A seguir, operadores utilizados exclusivamente para update:\n",
    "- *$inc* (increment)"
   ]
  }
 ],
 "metadata": {
  "kernelspec": {
   "display_name": "Python 3",
   "language": "python",
   "name": "python3"
  },
  "language_info": {
   "codemirror_mode": {
    "name": "ipython",
    "version": 3
   },
   "file_extension": ".py",
   "mimetype": "text/x-python",
   "name": "python",
   "nbconvert_exporter": "python",
   "pygments_lexer": "ipython3",
   "version": "3.12.6"
  }
 },
 "nbformat": 4,
 "nbformat_minor": 2
}
